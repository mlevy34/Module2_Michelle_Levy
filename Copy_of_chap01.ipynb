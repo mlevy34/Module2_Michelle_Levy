{
  "cells": [
    {
      "cell_type": "markdown",
      "metadata": {
        "id": "view-in-github",
        "colab_type": "text"
      },
      "source": [
        "<a href=\"https://colab.research.google.com/github/mlevy34/Module2_Michelle_Levy/blob/main/Copy_of_chap01.ipynb\" target=\"_parent\"><img src=\"https://colab.research.google.com/assets/colab-badge.svg\" alt=\"Open In Colab\"/></a>"
      ]
    },
    {
      "cell_type": "markdown",
      "id": "1331faa1",
      "metadata": {
        "id": "1331faa1"
      },
      "source": [
        "You can order print and ebook versions of *Think Python 3e* from\n",
        "[Bookshop.org](https://bookshop.org/a/98697/9781098155438) and\n",
        "[Amazon](https://www.amazon.com/_/dp/1098155432?smid=ATVPDKIKX0DER&_encoding=UTF8&tag=oreilly20-20&_encoding=UTF8&tag=greenteapre01-20&linkCode=ur2&linkId=e2a529f94920295d27ec8a06e757dc7c&camp=1789&creative=9325)."
      ]
    },
    {
      "cell_type": "markdown",
      "id": "a14edb7e",
      "metadata": {
        "tags": [],
        "id": "a14edb7e"
      },
      "source": [
        "# Welcome\n",
        "\n",
        "This is the Jupyter notebook for Chapter 1 of [*Think Python*, 3rd edition](https://greenteapress.com/wp/think-python-3rd-edition), by Allen B. Downey.\n",
        "\n",
        "If you are not familiar with Jupyter notebooks,\n",
        "[click here for a short introduction](https://colab.research.google.com/github/AllenDowney/ThinkPython/blob/v3/chapters/jupyter_intro.ipynb).\n",
        "\n",
        "Then, if you are not already running this notebook on Colab, [click here to run this notebook on Colab](https://colab.research.google.com/github/AllenDowney/ThinkPython/blob/v3/chapters/chap01.ipynb)."
      ]
    },
    {
      "cell_type": "markdown",
      "id": "3b4a1f57",
      "metadata": {
        "tags": [],
        "id": "3b4a1f57"
      },
      "source": [
        "The following cell downloads a file and runs some code that is used specifically for this book.\n",
        "You don't have to understand this code yet, but you should run it before you do anything else in this notebook.\n",
        "Remember that you can run the code by selecting the cell and pressing the play button (a triangle in a circle) or hold down `Shift` and press `Enter`."
      ]
    },
    {
      "cell_type": "code",
      "execution_count": null,
      "id": "213f9d96",
      "metadata": {
        "tags": [],
        "id": "213f9d96"
      },
      "outputs": [],
      "source": [
        "from os.path import basename, exists\n",
        "\n",
        "def download(url):\n",
        "    filename = basename(url)\n",
        "    if not exists(filename):\n",
        "        from urllib.request import urlretrieve\n",
        "\n",
        "        local, _ = urlretrieve(url, filename)\n",
        "        print(\"Downloaded \" + str(local))\n",
        "    return filename\n",
        "\n",
        "download('https://github.com/AllenDowney/ThinkPython/raw/v3/thinkpython.py');\n",
        "\n",
        "import thinkpython"
      ]
    },
    {
      "cell_type": "markdown",
      "id": "333a6fc9",
      "metadata": {
        "tags": [],
        "id": "333a6fc9"
      },
      "source": [
        "# Programming as a way of thinking\n",
        "\n",
        "The first goal of this book is to teach you how to program in Python.\n",
        "But learning to program means learning a new way to think, so the second goal of this book is to help you think like a computer scientist.\n",
        "This way of thinking combines some of the best features of mathematics, engineering, and natural science.\n",
        "Like mathematicians, computer scientists use formal languages to denote ideas -- specifically computations.\n",
        "Like engineers, they design things, assembling components into systems and evaluating trade-offs among alternatives.\n",
        "Like scientists, they observe the behavior of complex systems, form hypotheses, and test predictions.\n",
        "\n",
        "We will start with the most basic elements of programming and work our way up.\n",
        "In this chapter, we'll see how Python represents numbers, letters, and words.\n",
        "And you'll learn to perform arithmetic operations.\n",
        "\n",
        "You will also start to learn the vocabulary of programming, including terms like operator, expression, value, and type.\n",
        "This vocabulary is important -- you will need it to understand the rest of the book, to communicate with other programmers, and to use and understand virtual assistants."
      ]
    },
    {
      "cell_type": "markdown",
      "id": "a371aea3",
      "metadata": {
        "id": "a371aea3"
      },
      "source": [
        "## Arithmetic operators\n",
        "\n",
        "An **arithmetic operator** is a symbol that represents an arithmetic computation. For example, the plus sign, `+`, performs addition."
      ]
    },
    {
      "cell_type": "code",
      "execution_count": null,
      "id": "2568ec84",
      "metadata": {
        "colab": {
          "base_uri": "https://localhost:8080/"
        },
        "id": "2568ec84",
        "outputId": "1a0a70ba-cb41-49a0-a3ca-3e92179220ac"
      },
      "outputs": [
        {
          "output_type": "execute_result",
          "data": {
            "text/plain": [
              "42"
            ]
          },
          "metadata": {},
          "execution_count": 4
        }
      ],
      "source": [
        "30 + 12"
      ]
    },
    {
      "cell_type": "markdown",
      "id": "fc0e7ce8",
      "metadata": {
        "id": "fc0e7ce8"
      },
      "source": [
        "The minus sign, `-`, is the operator that performs subtraction."
      ]
    },
    {
      "cell_type": "code",
      "execution_count": null,
      "id": "c4e75456",
      "metadata": {
        "colab": {
          "base_uri": "https://localhost:8080/"
        },
        "id": "c4e75456",
        "outputId": "bc14af90-d374-4af5-95fc-049719b77760"
      },
      "outputs": [
        {
          "output_type": "execute_result",
          "data": {
            "text/plain": [
              "42"
            ]
          },
          "metadata": {},
          "execution_count": 5
        }
      ],
      "source": [
        "43 - 1"
      ]
    },
    {
      "cell_type": "markdown",
      "id": "63e4e780",
      "metadata": {
        "id": "63e4e780"
      },
      "source": [
        "The asterisk, `*`,  performs multiplication."
      ]
    },
    {
      "cell_type": "code",
      "execution_count": null,
      "id": "022a7b16",
      "metadata": {
        "colab": {
          "base_uri": "https://localhost:8080/"
        },
        "id": "022a7b16",
        "outputId": "6175b927-e81c-40b1-9b0b-53451311bb4d"
      },
      "outputs": [
        {
          "output_type": "execute_result",
          "data": {
            "text/plain": [
              "42"
            ]
          },
          "metadata": {},
          "execution_count": 6
        }
      ],
      "source": [
        "6 * 7"
      ]
    },
    {
      "cell_type": "markdown",
      "id": "a6192d13",
      "metadata": {
        "id": "a6192d13"
      },
      "source": [
        "And the forward slash, `/`, performs division:"
      ]
    },
    {
      "cell_type": "code",
      "execution_count": null,
      "id": "05ae1098",
      "metadata": {
        "colab": {
          "base_uri": "https://localhost:8080/"
        },
        "id": "05ae1098",
        "outputId": "7ca7982b-978b-414f-9a61-24937d18d363"
      },
      "outputs": [
        {
          "output_type": "execute_result",
          "data": {
            "text/plain": [
              "42.0"
            ]
          },
          "metadata": {},
          "execution_count": 7
        }
      ],
      "source": [
        "84 / 2"
      ]
    },
    {
      "cell_type": "markdown",
      "id": "641ad233",
      "metadata": {
        "id": "641ad233"
      },
      "source": [
        "Notice that the result of the division is `42.0` rather than `42`. That's because there are two types of numbers in Python:\n",
        "\n",
        "* **integers**, which represent numbers with no fractional or decimal part, and\n",
        "\n",
        "* **floating-point numbers**, which represent integers and numbers with a decimal point.\n",
        "\n",
        "If you add, subtract, or multiply two integers, the result is an integer.\n",
        "But if you divide two integers, the result is a floating-point number.\n",
        "Python provides another operator, `//`, that performs **integer division**.\n",
        "The result of integer division is always an integer."
      ]
    },
    {
      "cell_type": "code",
      "execution_count": null,
      "id": "4df5bcaa",
      "metadata": {
        "colab": {
          "base_uri": "https://localhost:8080/"
        },
        "id": "4df5bcaa",
        "outputId": "141afd3c-cc63-47b2-e061-87529302e455"
      },
      "outputs": [
        {
          "output_type": "execute_result",
          "data": {
            "text/plain": [
              "42"
            ]
          },
          "metadata": {},
          "execution_count": 8
        }
      ],
      "source": [
        "84 // 2"
      ]
    },
    {
      "cell_type": "markdown",
      "id": "b2a620ab",
      "metadata": {
        "id": "b2a620ab"
      },
      "source": [
        "Integer division is also called \"floor division\" because it always rounds down (toward the \"floor\")."
      ]
    },
    {
      "cell_type": "code",
      "execution_count": null,
      "id": "ef08d549",
      "metadata": {
        "colab": {
          "base_uri": "https://localhost:8080/"
        },
        "id": "ef08d549",
        "outputId": "efe6b9e4-a2f2-4c9c-924b-d1c93048d9b0"
      },
      "outputs": [
        {
          "output_type": "execute_result",
          "data": {
            "text/plain": [
              "42"
            ]
          },
          "metadata": {},
          "execution_count": 9
        }
      ],
      "source": [
        "85 // 2"
      ]
    },
    {
      "cell_type": "markdown",
      "id": "41e2886a",
      "metadata": {
        "id": "41e2886a"
      },
      "source": [
        "Finally, the operator `**` performs exponentiation; that is, it raises a\n",
        "number to a power:"
      ]
    },
    {
      "cell_type": "code",
      "execution_count": null,
      "id": "df933e80",
      "metadata": {
        "colab": {
          "base_uri": "https://localhost:8080/"
        },
        "id": "df933e80",
        "outputId": "ed78c910-c609-484d-d44e-5d5fe2989a9d"
      },
      "outputs": [
        {
          "output_type": "execute_result",
          "data": {
            "text/plain": [
              "49"
            ]
          },
          "metadata": {},
          "execution_count": 10
        }
      ],
      "source": [
        "7 ** 2"
      ]
    },
    {
      "cell_type": "markdown",
      "id": "b2502fb6",
      "metadata": {
        "id": "b2502fb6"
      },
      "source": [
        "In some other languages, the caret, `^`, is used for exponentiation, but in Python\n",
        "it is a bitwise operator called XOR.\n",
        "If you are not familiar with bitwise operators, the result might be unexpected:"
      ]
    },
    {
      "cell_type": "code",
      "execution_count": null,
      "id": "306b6b88",
      "metadata": {
        "colab": {
          "base_uri": "https://localhost:8080/"
        },
        "id": "306b6b88",
        "outputId": "6b30945d-6fe0-431e-bc47-8a7957828c76"
      },
      "outputs": [
        {
          "output_type": "execute_result",
          "data": {
            "text/plain": [
              "5"
            ]
          },
          "metadata": {},
          "execution_count": 11
        }
      ],
      "source": [
        "7 ^ 2"
      ]
    },
    {
      "cell_type": "markdown",
      "id": "30078370",
      "metadata": {
        "id": "30078370"
      },
      "source": [
        "I won't cover bitwise operators in this book, but you can read about\n",
        "them at <http://wiki.python.org/moin/BitwiseOperators>."
      ]
    },
    {
      "cell_type": "markdown",
      "id": "0f5b7e97",
      "metadata": {
        "id": "0f5b7e97"
      },
      "source": [
        "## Expressions\n",
        "\n",
        "A collection of operators and numbers is called an **expression**.\n",
        "An expression can contain any number of operators and numbers.\n",
        "For example, here's an expression that contains two operators."
      ]
    },
    {
      "cell_type": "code",
      "execution_count": null,
      "id": "6e68101d",
      "metadata": {
        "colab": {
          "base_uri": "https://localhost:8080/"
        },
        "id": "6e68101d",
        "outputId": "8ff37785-5b2f-486d-f4f5-f68372d54c87"
      },
      "outputs": [
        {
          "output_type": "execute_result",
          "data": {
            "text/plain": [
              "42"
            ]
          },
          "metadata": {},
          "execution_count": 12
        }
      ],
      "source": [
        "6 + 6 ** 2"
      ]
    },
    {
      "cell_type": "markdown",
      "id": "8e95039c",
      "metadata": {
        "id": "8e95039c"
      },
      "source": [
        "Notice that exponentiation happens before addition.\n",
        "Python follows the order of operations you might have learned in a math class: exponentiation happens before multiplication and division, which happen before addition and subtraction.\n",
        "\n",
        "In the following example, multiplication happens before addition."
      ]
    },
    {
      "cell_type": "code",
      "execution_count": null,
      "id": "ffc25598",
      "metadata": {
        "colab": {
          "base_uri": "https://localhost:8080/"
        },
        "id": "ffc25598",
        "outputId": "f5ed68ed-d2b3-418d-f2f6-0d73b9965280"
      },
      "outputs": [
        {
          "output_type": "execute_result",
          "data": {
            "text/plain": [
              "42"
            ]
          },
          "metadata": {},
          "execution_count": 13
        }
      ],
      "source": [
        "12 + 5 * 6"
      ]
    },
    {
      "cell_type": "markdown",
      "id": "914a60d8",
      "metadata": {
        "id": "914a60d8"
      },
      "source": [
        "If you want the addition to happen first, you can use parentheses."
      ]
    },
    {
      "cell_type": "code",
      "execution_count": null,
      "id": "8dd1bd9a",
      "metadata": {
        "colab": {
          "base_uri": "https://localhost:8080/"
        },
        "id": "8dd1bd9a",
        "outputId": "3aa909b8-1726-40f3-f57c-60f707c329f2"
      },
      "outputs": [
        {
          "output_type": "execute_result",
          "data": {
            "text/plain": [
              "102"
            ]
          },
          "metadata": {},
          "execution_count": 14
        }
      ],
      "source": [
        "(12 + 5) * 6"
      ]
    },
    {
      "cell_type": "markdown",
      "id": "67ae0ae9",
      "metadata": {
        "id": "67ae0ae9"
      },
      "source": [
        "Every expression has a **value**.\n",
        "For example, the expression `6 * 7` has the value `42`."
      ]
    },
    {
      "cell_type": "markdown",
      "id": "caebaa51",
      "metadata": {
        "id": "caebaa51"
      },
      "source": [
        "## Arithmetic functions\n",
        "\n",
        "In addition to the arithmetic operators, Python provides a few **functions** that work with numbers.\n",
        "For example, the `round` function takes a floating-point number and rounds it off to the nearest integer."
      ]
    },
    {
      "cell_type": "code",
      "execution_count": null,
      "id": "1e3d5e01",
      "metadata": {
        "colab": {
          "base_uri": "https://localhost:8080/"
        },
        "id": "1e3d5e01",
        "outputId": "8b668692-37fb-42f3-880b-5b69289a6eec"
      },
      "outputs": [
        {
          "output_type": "execute_result",
          "data": {
            "text/plain": [
              "42"
            ]
          },
          "metadata": {},
          "execution_count": 15
        }
      ],
      "source": [
        "round(42.4)"
      ]
    },
    {
      "cell_type": "code",
      "execution_count": null,
      "id": "d1b220b9",
      "metadata": {
        "colab": {
          "base_uri": "https://localhost:8080/"
        },
        "id": "d1b220b9",
        "outputId": "ffe1fcbc-b206-46f3-9014-bda5028d36c3"
      },
      "outputs": [
        {
          "output_type": "execute_result",
          "data": {
            "text/plain": [
              "43"
            ]
          },
          "metadata": {},
          "execution_count": 16
        }
      ],
      "source": [
        "round(42.6)"
      ]
    },
    {
      "cell_type": "markdown",
      "id": "f5738b4b",
      "metadata": {
        "id": "f5738b4b"
      },
      "source": [
        "The `abs` function computes the absolute value of a number.\n",
        "For a positive number, the absolute value is the number itself."
      ]
    },
    {
      "cell_type": "code",
      "execution_count": null,
      "id": "ff742476",
      "metadata": {
        "colab": {
          "base_uri": "https://localhost:8080/"
        },
        "id": "ff742476",
        "outputId": "4d74a079-1fe2-4dd0-c941-c9f9573e494b"
      },
      "outputs": [
        {
          "output_type": "execute_result",
          "data": {
            "text/plain": [
              "42"
            ]
          },
          "metadata": {},
          "execution_count": 17
        }
      ],
      "source": [
        "abs(42)"
      ]
    },
    {
      "cell_type": "markdown",
      "id": "e518494a",
      "metadata": {
        "id": "e518494a"
      },
      "source": [
        "For a negative number, the absolute value is positive."
      ]
    },
    {
      "cell_type": "code",
      "execution_count": null,
      "id": "9247c1a3",
      "metadata": {
        "colab": {
          "base_uri": "https://localhost:8080/"
        },
        "id": "9247c1a3",
        "outputId": "a060f07f-1f8f-49cd-f2ad-bc76ce6cccac"
      },
      "outputs": [
        {
          "output_type": "execute_result",
          "data": {
            "text/plain": [
              "42"
            ]
          },
          "metadata": {},
          "execution_count": 18
        }
      ],
      "source": [
        "abs(-42)"
      ]
    },
    {
      "cell_type": "markdown",
      "id": "6969ce45",
      "metadata": {
        "id": "6969ce45"
      },
      "source": [
        "When we use a function like this, we say we're **calling** the function.\n",
        "An expression that calls a function is a **function call**.\n",
        "\n",
        "When you call a function, the parentheses are required.\n",
        "If you leave them out, you get an error message."
      ]
    },
    {
      "cell_type": "markdown",
      "id": "5a73bfd5",
      "metadata": {
        "tags": [],
        "id": "5a73bfd5"
      },
      "source": [
        "NOTE: The following cell uses `%%expect`, which is a Jupyter \"magic command\" that means we expect the code in this cell to produce an error. For more on this topic, see the\n",
        "[Jupyter notebook introduction](https://colab.research.google.com/github/AllenDowney/ThinkPython/blob/v3/chapters/jupyter_intro.ipynb)."
      ]
    },
    {
      "cell_type": "code",
      "execution_count": null,
      "id": "4674b7ca",
      "metadata": {
        "tags": [],
        "colab": {
          "base_uri": "https://localhost:8080/",
          "height": 106
        },
        "id": "4674b7ca",
        "outputId": "f389b2b9-693e-43aa-8ad5-47373b407496"
      },
      "outputs": [
        {
          "output_type": "error",
          "ename": "SyntaxError",
          "evalue": "invalid syntax (ipython-input-3827346253.py, line 1)",
          "traceback": [
            "\u001b[0;36m  File \u001b[0;32m\"/tmp/ipython-input-3827346253.py\"\u001b[0;36m, line \u001b[0;32m1\u001b[0m\n\u001b[0;31m    abs 42\u001b[0m\n\u001b[0m        ^\u001b[0m\n\u001b[0;31mSyntaxError\u001b[0m\u001b[0;31m:\u001b[0m invalid syntax\n"
          ]
        }
      ],
      "source": [
        "%%expect SyntaxError\n",
        "\n",
        "abs 42"
      ]
    },
    {
      "cell_type": "code",
      "metadata": {
        "id": "a05dddcb"
      },
      "source": [
        "abs(-42)"
      ],
      "id": "a05dddcb",
      "execution_count": null,
      "outputs": []
    },
    {
      "cell_type": "markdown",
      "id": "7d356f1b",
      "metadata": {
        "id": "7d356f1b"
      },
      "source": [
        "You can ignore the first line of this message; it doesn't contain any information we need to understand right now.\n",
        "The second line is the code that contains the error, with a caret (`^`) beneath it to indicate where the error was discovered.\n",
        "\n",
        "The last line indicates that this is a **syntax error**, which means that there is something wrong with the structure of the expression.\n",
        "In this example, the problem is that a function call requires parentheses.\n",
        "\n",
        "Let's see what happens if you leave out the parentheses *and* the value."
      ]
    },
    {
      "cell_type": "code",
      "execution_count": null,
      "id": "7d3e8127",
      "metadata": {
        "id": "7d3e8127"
      },
      "outputs": [],
      "source": [
        "abs"
      ]
    },
    {
      "cell_type": "markdown",
      "id": "94478885",
      "metadata": {
        "id": "94478885"
      },
      "source": [
        "A function name all by itself is a legal expression that has a value.\n",
        "When it's displayed, the value indicates that `abs` is a function, and it includes some additional information I'll explain later."
      ]
    },
    {
      "cell_type": "markdown",
      "id": "31a85d17",
      "metadata": {
        "id": "31a85d17"
      },
      "source": [
        "## Strings\n",
        "\n",
        "In addition to numbers, Python can also represent sequences of letters, which are called **strings** because the letters are strung together like beads on a necklace.\n",
        "To write a string, we can put a sequence of letters inside straight quotation marks."
      ]
    },
    {
      "cell_type": "code",
      "execution_count": null,
      "id": "bd8ae45f",
      "metadata": {
        "colab": {
          "base_uri": "https://localhost:8080/",
          "height": 35
        },
        "id": "bd8ae45f",
        "outputId": "5371606a-a330-4b9d-bce9-532e34479f4c"
      },
      "outputs": [
        {
          "output_type": "execute_result",
          "data": {
            "text/plain": [
              "'Hello'"
            ],
            "application/vnd.google.colaboratory.intrinsic+json": {
              "type": "string"
            }
          },
          "metadata": {},
          "execution_count": 20
        }
      ],
      "source": [
        "'Hello'"
      ]
    },
    {
      "cell_type": "markdown",
      "id": "d20050d8",
      "metadata": {
        "id": "d20050d8"
      },
      "source": [
        "It is also legal to use double quotation marks."
      ]
    },
    {
      "cell_type": "code",
      "execution_count": null,
      "id": "01d0055e",
      "metadata": {
        "colab": {
          "base_uri": "https://localhost:8080/",
          "height": 35
        },
        "id": "01d0055e",
        "outputId": "7643afec-d61f-4630-d51c-c589e81738ad"
      },
      "outputs": [
        {
          "output_type": "execute_result",
          "data": {
            "text/plain": [
              "'world'"
            ],
            "application/vnd.google.colaboratory.intrinsic+json": {
              "type": "string"
            }
          },
          "metadata": {},
          "execution_count": 21
        }
      ],
      "source": [
        "\"world\""
      ]
    },
    {
      "cell_type": "markdown",
      "id": "76f5edb7",
      "metadata": {
        "id": "76f5edb7"
      },
      "source": [
        "Double quotes make it easy to write a string that contains an apostrophe, which is the same symbol as a straight quote."
      ]
    },
    {
      "cell_type": "code",
      "execution_count": null,
      "id": "0295acab",
      "metadata": {
        "colab": {
          "base_uri": "https://localhost:8080/",
          "height": 35
        },
        "id": "0295acab",
        "outputId": "299a4173-cb12-442f-cb2b-0eca78578536"
      },
      "outputs": [
        {
          "output_type": "execute_result",
          "data": {
            "text/plain": [
              "\"it's a small \""
            ],
            "application/vnd.google.colaboratory.intrinsic+json": {
              "type": "string"
            }
          },
          "metadata": {},
          "execution_count": 22
        }
      ],
      "source": [
        "\"it's a small \""
      ]
    },
    {
      "cell_type": "markdown",
      "id": "d62d4b1c",
      "metadata": {
        "id": "d62d4b1c"
      },
      "source": [
        "Strings can also contain spaces, punctuation, and digits."
      ]
    },
    {
      "cell_type": "code",
      "execution_count": null,
      "id": "cf918917",
      "metadata": {
        "colab": {
          "base_uri": "https://localhost:8080/",
          "height": 35
        },
        "id": "cf918917",
        "outputId": "96d149a2-0214-4986-f95f-5dcf80240293"
      },
      "outputs": [
        {
          "output_type": "execute_result",
          "data": {
            "text/plain": [
              "'Well, '"
            ],
            "application/vnd.google.colaboratory.intrinsic+json": {
              "type": "string"
            }
          },
          "metadata": {},
          "execution_count": 23
        }
      ],
      "source": [
        "'Well, '"
      ]
    },
    {
      "cell_type": "markdown",
      "id": "9ad47f7a",
      "metadata": {
        "id": "9ad47f7a"
      },
      "source": [
        "The `+` operator works with strings; it joins two strings into a single string, which is called **concatenation**"
      ]
    },
    {
      "cell_type": "code",
      "execution_count": null,
      "id": "aefe6af1",
      "metadata": {
        "colab": {
          "base_uri": "https://localhost:8080/",
          "height": 35
        },
        "id": "aefe6af1",
        "outputId": "fe413c4d-188c-41aa-e1b5-f60a55fd3b90"
      },
      "outputs": [
        {
          "output_type": "execute_result",
          "data": {
            "text/plain": [
              "\"Well, it's a small world.\""
            ],
            "application/vnd.google.colaboratory.intrinsic+json": {
              "type": "string"
            }
          },
          "metadata": {},
          "execution_count": 24
        }
      ],
      "source": [
        "'Well, ' + \"it's a small \" + 'world.'"
      ]
    },
    {
      "cell_type": "markdown",
      "id": "0ad969a3",
      "metadata": {
        "id": "0ad969a3"
      },
      "source": [
        "The `*` operator also works with strings; it makes multiple copies of a string and concatenates them."
      ]
    },
    {
      "cell_type": "code",
      "execution_count": null,
      "id": "42e9e4e2",
      "metadata": {
        "colab": {
          "base_uri": "https://localhost:8080/",
          "height": 35
        },
        "id": "42e9e4e2",
        "outputId": "d25813de-dd80-4dfc-89d9-f5812a70bd63"
      },
      "outputs": [
        {
          "output_type": "execute_result",
          "data": {
            "text/plain": [
              "'Spam, Spam, Spam, Spam, '"
            ],
            "application/vnd.google.colaboratory.intrinsic+json": {
              "type": "string"
            }
          },
          "metadata": {},
          "execution_count": 25
        }
      ],
      "source": [
        "'Spam, ' * 4"
      ]
    },
    {
      "cell_type": "markdown",
      "id": "dfba16a5",
      "metadata": {
        "id": "dfba16a5"
      },
      "source": [
        "The other arithmetic operators don't work with strings.\n",
        "\n",
        "Python provides a function called `len` that computes the length of a string."
      ]
    },
    {
      "cell_type": "code",
      "execution_count": null,
      "id": "a5e837db",
      "metadata": {
        "colab": {
          "base_uri": "https://localhost:8080/"
        },
        "id": "a5e837db",
        "outputId": "5fd7ccff-2c8f-4f84-e0ab-2e2ddd7e1372"
      },
      "outputs": [
        {
          "output_type": "execute_result",
          "data": {
            "text/plain": [
              "4"
            ]
          },
          "metadata": {},
          "execution_count": 26
        }
      ],
      "source": [
        "len('Spam')"
      ]
    },
    {
      "cell_type": "markdown",
      "id": "d91e00b3",
      "metadata": {
        "id": "d91e00b3"
      },
      "source": [
        "Notice that `len` counts the letters between the quotes, but not the quotes.\n",
        "\n",
        "When you create a string, be sure to use straight quotes.\n",
        "The back quote, also known as a backtick, causes a syntax error."
      ]
    },
    {
      "cell_type": "code",
      "execution_count": null,
      "id": "e3f65f19",
      "metadata": {
        "tags": [],
        "colab": {
          "base_uri": "https://localhost:8080/",
          "height": 106
        },
        "id": "e3f65f19",
        "outputId": "e51c75cc-5ca3-46f9-9b11-a07a64e28fba"
      },
      "outputs": [
        {
          "output_type": "error",
          "ename": "SyntaxError",
          "evalue": "invalid syntax (ipython-input-1580190030.py, line 1)",
          "traceback": [
            "\u001b[0;36m  File \u001b[0;32m\"/tmp/ipython-input-1580190030.py\"\u001b[0;36m, line \u001b[0;32m1\u001b[0m\n\u001b[0;31m    `Hello`\u001b[0m\n\u001b[0m    ^\u001b[0m\n\u001b[0;31mSyntaxError\u001b[0m\u001b[0;31m:\u001b[0m invalid syntax\n"
          ]
        }
      ],
      "source": [
        "%%expect SyntaxError\n",
        "\n",
        "`Hello`"
      ]
    },
    {
      "cell_type": "markdown",
      "id": "40d893d1",
      "metadata": {
        "id": "40d893d1"
      },
      "source": [
        "Smart quotes, also known as curly quotes, are also illegal."
      ]
    },
    {
      "cell_type": "code",
      "execution_count": null,
      "id": "a705b980",
      "metadata": {
        "tags": [],
        "colab": {
          "base_uri": "https://localhost:8080/",
          "height": 106
        },
        "id": "a705b980",
        "outputId": "167e820e-ee7d-4589-b1c8-494a72f65e4b"
      },
      "outputs": [
        {
          "output_type": "error",
          "ename": "SyntaxError",
          "evalue": "invalid character '‘' (U+2018) (ipython-input-232449189.py, line 1)",
          "traceback": [
            "\u001b[0;36m  File \u001b[0;32m\"/tmp/ipython-input-232449189.py\"\u001b[0;36m, line \u001b[0;32m1\u001b[0m\n\u001b[0;31m    ‘Hello’\u001b[0m\n\u001b[0m    ^\u001b[0m\n\u001b[0;31mSyntaxError\u001b[0m\u001b[0;31m:\u001b[0m invalid character '‘' (U+2018)\n"
          ]
        }
      ],
      "source": [
        "%%expect SyntaxError\n",
        "\n",
        "‘Hello’"
      ]
    },
    {
      "cell_type": "markdown",
      "id": "5471d4f8",
      "metadata": {
        "id": "5471d4f8"
      },
      "source": [
        "## Values and types\n",
        "\n",
        "So far we've seen three kinds of values:\n",
        "\n",
        "* `2` is an integer,\n",
        "\n",
        "* `42.0` is a floating-point number, and\n",
        "\n",
        "* `'Hello'` is a string.\n",
        "\n",
        "A kind of value is called a **type**.\n",
        "Every value has a type -- or we sometimes say it \"belongs to\" a type.\n",
        "\n",
        "Python provides a function called `type` that tells you the type of any value.\n",
        "The type of an integer is `int`."
      ]
    },
    {
      "cell_type": "code",
      "execution_count": null,
      "id": "3df8e2c5",
      "metadata": {
        "colab": {
          "base_uri": "https://localhost:8080/"
        },
        "id": "3df8e2c5",
        "outputId": "fe6d4e87-117d-4ceb-c6ab-eb5ffd49b124"
      },
      "outputs": [
        {
          "output_type": "execute_result",
          "data": {
            "text/plain": [
              "int"
            ]
          },
          "metadata": {},
          "execution_count": 29
        }
      ],
      "source": [
        "type(2)"
      ]
    },
    {
      "cell_type": "markdown",
      "id": "b137814c",
      "metadata": {
        "id": "b137814c"
      },
      "source": [
        "The type of a floating-point number is `float`."
      ]
    },
    {
      "cell_type": "code",
      "execution_count": null,
      "id": "c4732c8d",
      "metadata": {
        "colab": {
          "base_uri": "https://localhost:8080/"
        },
        "id": "c4732c8d",
        "outputId": "abfafa86-3467-42c8-bc63-af39b5974db8"
      },
      "outputs": [
        {
          "output_type": "execute_result",
          "data": {
            "text/plain": [
              "float"
            ]
          },
          "metadata": {},
          "execution_count": 30
        }
      ],
      "source": [
        "type(42.0)"
      ]
    },
    {
      "cell_type": "markdown",
      "id": "266dea4e",
      "metadata": {
        "id": "266dea4e"
      },
      "source": [
        "And the type of a string is `str`."
      ]
    },
    {
      "cell_type": "code",
      "execution_count": null,
      "id": "8f65ac45",
      "metadata": {
        "colab": {
          "base_uri": "https://localhost:8080/"
        },
        "id": "8f65ac45",
        "outputId": "3e125481-f89d-4e1b-b933-da64ecc5bb5b"
      },
      "outputs": [
        {
          "output_type": "execute_result",
          "data": {
            "text/plain": [
              "str"
            ]
          },
          "metadata": {},
          "execution_count": 31
        }
      ],
      "source": [
        "type('Hello, World!')"
      ]
    },
    {
      "cell_type": "markdown",
      "id": "76d216ed",
      "metadata": {
        "id": "76d216ed"
      },
      "source": [
        "The types `int`, `float`, and `str` can be used as functions.\n",
        "For example, `int` can take a floating-point number and convert it to an integer (always rounding down)."
      ]
    },
    {
      "cell_type": "code",
      "execution_count": null,
      "id": "84b22f2f",
      "metadata": {
        "colab": {
          "base_uri": "https://localhost:8080/"
        },
        "id": "84b22f2f",
        "outputId": "17900235-25c1-4448-d2e6-da26c9c37383"
      },
      "outputs": [
        {
          "output_type": "execute_result",
          "data": {
            "text/plain": [
              "42"
            ]
          },
          "metadata": {},
          "execution_count": 32
        }
      ],
      "source": [
        "int(42.9)"
      ]
    },
    {
      "cell_type": "markdown",
      "id": "dcd8d114",
      "metadata": {
        "id": "dcd8d114"
      },
      "source": [
        "And `float` can convert an integer to a floating-point value."
      ]
    },
    {
      "cell_type": "code",
      "execution_count": null,
      "id": "9b66ee21",
      "metadata": {
        "colab": {
          "base_uri": "https://localhost:8080/"
        },
        "id": "9b66ee21",
        "outputId": "5ff8dc8d-43d3-4286-b866-bab715a8d3bf"
      },
      "outputs": [
        {
          "output_type": "execute_result",
          "data": {
            "text/plain": [
              "42.0"
            ]
          },
          "metadata": {},
          "execution_count": 33
        }
      ],
      "source": [
        "float(42)"
      ]
    },
    {
      "cell_type": "markdown",
      "id": "eda70b61",
      "metadata": {
        "id": "eda70b61"
      },
      "source": [
        "Now, here's something that can be confusing.\n",
        "What do you get if you put a sequence of digits in quotes?"
      ]
    },
    {
      "cell_type": "code",
      "execution_count": null,
      "id": "f64e107c",
      "metadata": {
        "colab": {
          "base_uri": "https://localhost:8080/",
          "height": 35
        },
        "id": "f64e107c",
        "outputId": "902949d7-09c1-4770-868d-87ac56bc1546"
      },
      "outputs": [
        {
          "output_type": "execute_result",
          "data": {
            "text/plain": [
              "'126'"
            ],
            "application/vnd.google.colaboratory.intrinsic+json": {
              "type": "string"
            }
          },
          "metadata": {},
          "execution_count": 34
        }
      ],
      "source": [
        "'126'"
      ]
    },
    {
      "cell_type": "markdown",
      "id": "fdded653",
      "metadata": {
        "id": "fdded653"
      },
      "source": [
        "It looks like a number, but it is actually a string."
      ]
    },
    {
      "cell_type": "code",
      "execution_count": null,
      "id": "609a8153",
      "metadata": {
        "colab": {
          "base_uri": "https://localhost:8080/"
        },
        "id": "609a8153",
        "outputId": "937dbee0-84bd-4be0-ee02-d5c4ec57b2e0"
      },
      "outputs": [
        {
          "output_type": "execute_result",
          "data": {
            "text/plain": [
              "str"
            ]
          },
          "metadata": {},
          "execution_count": 35
        }
      ],
      "source": [
        "type('126')"
      ]
    },
    {
      "cell_type": "markdown",
      "id": "2683ac35",
      "metadata": {
        "id": "2683ac35"
      },
      "source": [
        "If you try to use it like a number, you might get an error."
      ]
    },
    {
      "cell_type": "code",
      "execution_count": null,
      "id": "1cf21da4",
      "metadata": {
        "tags": [],
        "colab": {
          "base_uri": "https://localhost:8080/",
          "height": 54
        },
        "id": "1cf21da4",
        "outputId": "d1c2be88-f655-4462-d2e0-7db21580ae75"
      },
      "outputs": [
        {
          "output_type": "error",
          "ename": "TypeError",
          "evalue": "unsupported operand type(s) for /: 'str' and 'int'",
          "traceback": [
            "\u001b[0;31mTypeError\u001b[0m\u001b[0;31m:\u001b[0m unsupported operand type(s) for /: 'str' and 'int'\n"
          ]
        }
      ],
      "source": [
        "%%expect TypeError\n",
        "\n",
        "'126' / 3"
      ]
    },
    {
      "cell_type": "markdown",
      "id": "32c11cc4",
      "metadata": {
        "id": "32c11cc4"
      },
      "source": [
        "This example generates a `TypeError`, which means that the values in the expression, which are called **operands**, have the wrong type.\n",
        "The error message indicates that the `/` operator does not support the types of these values, which are `str` and `int`.\n",
        "\n",
        "If you have a string that contains digits, you can use `int` to convert it to an integer."
      ]
    },
    {
      "cell_type": "code",
      "execution_count": null,
      "id": "d45e6a60",
      "metadata": {
        "colab": {
          "base_uri": "https://localhost:8080/"
        },
        "id": "d45e6a60",
        "outputId": "4b520d4b-d3da-4401-dcb9-6a570d7da629"
      },
      "outputs": [
        {
          "output_type": "execute_result",
          "data": {
            "text/plain": [
              "42.0"
            ]
          },
          "metadata": {},
          "execution_count": 37
        }
      ],
      "source": [
        "int('126') / 3"
      ]
    },
    {
      "cell_type": "markdown",
      "id": "86935d56",
      "metadata": {
        "id": "86935d56"
      },
      "source": [
        "If you have a string that contains digits and a decimal point, you can use `float` to convert it to a floating-point number."
      ]
    },
    {
      "cell_type": "code",
      "execution_count": null,
      "id": "db30b719",
      "metadata": {
        "colab": {
          "base_uri": "https://localhost:8080/"
        },
        "id": "db30b719",
        "outputId": "7cb5ab18-defe-49df-f809-f9c17bdb4fb6"
      },
      "outputs": [
        {
          "output_type": "execute_result",
          "data": {
            "text/plain": [
              "12.6"
            ]
          },
          "metadata": {},
          "execution_count": 38
        }
      ],
      "source": [
        "float('12.6')"
      ]
    },
    {
      "cell_type": "markdown",
      "id": "03103ef4",
      "metadata": {
        "id": "03103ef4"
      },
      "source": [
        "When you write a large integer, you might be tempted to use commas\n",
        "between groups of digits, as in `1,000,000`.\n",
        "This is a legal expression in Python, but the result is not an integer."
      ]
    },
    {
      "cell_type": "code",
      "execution_count": null,
      "id": "d72b6af1",
      "metadata": {
        "colab": {
          "base_uri": "https://localhost:8080/"
        },
        "id": "d72b6af1",
        "outputId": "3fcf9a74-8093-4334-eb9c-d484e9a75be4"
      },
      "outputs": [
        {
          "output_type": "execute_result",
          "data": {
            "text/plain": [
              "(1, 0, 0)"
            ]
          },
          "metadata": {},
          "execution_count": 39
        }
      ],
      "source": [
        "1,000,000"
      ]
    },
    {
      "cell_type": "markdown",
      "id": "3d24af71",
      "metadata": {
        "id": "3d24af71"
      },
      "source": [
        "Python interprets `1,000,000` as a comma-separated sequence of integers.\n",
        "We'll learn more about this kind of sequence later.\n",
        "\n",
        "You can use underscores to make large numbers easier to read."
      ]
    },
    {
      "cell_type": "code",
      "execution_count": null,
      "id": "e19bf7e7",
      "metadata": {
        "colab": {
          "base_uri": "https://localhost:8080/"
        },
        "id": "e19bf7e7",
        "outputId": "7276543f-bec1-4ad2-ab4f-e567ed886bc6"
      },
      "outputs": [
        {
          "output_type": "execute_result",
          "data": {
            "text/plain": [
              "1000000"
            ]
          },
          "metadata": {},
          "execution_count": 40
        }
      ],
      "source": [
        "1_000_000"
      ]
    },
    {
      "cell_type": "markdown",
      "id": "1761cbac",
      "metadata": {
        "id": "1761cbac"
      },
      "source": [
        "## Formal and natural languages\n",
        "\n",
        "**Natural languages** are the languages people speak, like English, Spanish, and French. They were not designed by people; they evolved naturally.\n",
        "\n",
        "**Formal languages** are languages that are designed by people for specific applications.\n",
        "For example, the notation that mathematicians use is a formal language that is particularly good at denoting relationships among numbers and symbols.\n",
        "Similarly, programming languages are formal languages that have been designed to express computations."
      ]
    },
    {
      "cell_type": "markdown",
      "id": "1bf3d2dc",
      "metadata": {
        "id": "1bf3d2dc"
      },
      "source": [
        "Although formal and natural languages have some features in\n",
        "common there are important differences:\n",
        "\n",
        "* Ambiguity: Natural languages are full of ambiguity, which people deal with by\n",
        "    using contextual clues and other information. Formal languages are\n",
        "    designed to be nearly or completely unambiguous, which means that\n",
        "    any program has exactly one meaning, regardless of context.\n",
        "\n",
        "* Redundancy: In order to make up for ambiguity and reduce misunderstandings,\n",
        "    natural languages use redundancy. As a result, they are\n",
        "    often verbose. Formal languages are less redundant and more concise.\n",
        "\n",
        "* Literalness: Natural languages are full of idiom and metaphor. Formal languages mean exactly what they say."
      ]
    },
    {
      "cell_type": "markdown",
      "id": "78a1cec8",
      "metadata": {
        "id": "78a1cec8"
      },
      "source": [
        "Because we all grow up speaking natural languages, it is sometimes hard to adjust to formal languages.\n",
        "Formal languages are more dense than natural languages, so it takes longer to read them.\n",
        "Also, the structure is important, so it is not always best to read from top to bottom, left to right.\n",
        "Finally, the details matter. Small errors in spelling and\n",
        "punctuation, which you can get away with in natural languages, can make\n",
        "a big difference in a formal language."
      ]
    },
    {
      "cell_type": "markdown",
      "id": "4358fa9a",
      "metadata": {
        "id": "4358fa9a"
      },
      "source": [
        "## Debugging\n",
        "\n",
        "Programmers make mistakes. For whimsical reasons, programming errors are called **bugs** and the process of tracking them down is called **debugging**.\n",
        "\n",
        "Programming, and especially debugging, sometimes brings out strong emotions. If you are struggling with a difficult bug, you might feel angry, sad, or embarrassed.\n",
        "\n",
        "Preparing for these reactions might help you deal with them. One approach is to think of the computer as an employee with certain strengths, like speed and precision, and particular weaknesses, like lack of empathy and inability to grasp the big picture.\n",
        "\n",
        "Your job is to be a good manager: find ways to take advantage of the strengths and mitigate the weaknesses. And find ways to use your emotions to engage with the problem, without letting your reactions interfere with your ability to work effectively.\n",
        "\n",
        "Learning to debug can be frustrating, but it is a valuable skill that is useful for many activities beyond programming. At the end of each chapter there is a section, like this one, with my suggestions for debugging. I hope they help!"
      ]
    },
    {
      "cell_type": "markdown",
      "id": "33b8ad00",
      "metadata": {
        "id": "33b8ad00"
      },
      "source": [
        "## Glossary\n",
        "\n",
        "**arithmetic operator:**\n",
        "A symbol, like `+` and `*`, that denotes an arithmetic operation like addition or multiplication.\n",
        "\n",
        "**integer:**\n",
        "A type that represents numbers with no fractional or decimal part.\n",
        "\n",
        "**floating-point:**\n",
        "A type that represents integers and numbers with decimal parts.\n",
        "\n",
        "**integer division:**\n",
        "An operator, `//`, that divides two numbers and rounds down to an integer.\n",
        "\n",
        "**expression:**\n",
        "A combination of variables, values, and operators.\n",
        "\n",
        "**value:**\n",
        "An integer, floating-point number, or string -- or one of other kinds of values we will see later.\n",
        "\n",
        "**function:**\n",
        "A named sequence of statements that performs some useful operation.\n",
        "Functions may or may not take arguments and may or may not produce a result.\n",
        "\n",
        "**function call:**\n",
        "An expression -- or part of an expression -- that runs a function.\n",
        "It consists of the function name followed by an argument list in parentheses.\n",
        "\n",
        "**syntax error:**\n",
        "An error in a program that makes it impossible to parse -- and therefore impossible to run.\n",
        "\n",
        "**string:**\n",
        " A type that represents sequences of characters.\n",
        "\n",
        "**concatenation:**\n",
        "Joining two strings end-to-end.\n",
        "\n",
        "**type:**\n",
        "A category of values.\n",
        "The types we have seen so far are integers (type `int`), floating-point numbers (type ` float`), and strings (type `str`).\n",
        "\n",
        "**operand:**\n",
        "One of the values on which an operator operates.\n",
        "\n",
        "**natural language:**\n",
        "Any of the languages that people speak that evolved naturally.\n",
        "\n",
        "**formal language:**\n",
        "Any of the languages that people have designed for specific purposes, such as representing mathematical ideas or computer programs.\n",
        "All programming languages are formal languages.\n",
        "\n",
        "**bug:**\n",
        "An error in a program.\n",
        "\n",
        "**debugging:**\n",
        "The process of finding and correcting errors."
      ]
    },
    {
      "cell_type": "markdown",
      "id": "ed4ec01b",
      "metadata": {
        "id": "ed4ec01b"
      },
      "source": [
        "## Exercises"
      ]
    },
    {
      "cell_type": "code",
      "execution_count": null,
      "id": "06d3e72c",
      "metadata": {
        "tags": [],
        "id": "06d3e72c"
      },
      "outputs": [],
      "source": [
        "# This cell tells Jupyter to provide detailed debugging information\n",
        "# when a runtime error occurs. Run it before working on the exercises.\n",
        "\n",
        "%xmode Verbose"
      ]
    },
    {
      "cell_type": "markdown",
      "id": "23adf208",
      "metadata": {
        "id": "23adf208"
      },
      "source": [
        "### Ask a virtual assistant\n",
        "\n",
        "As you work through this book, there are several ways you can use a virtual assistant or chatbot to help you learn.\n",
        "\n",
        "* If you want to learn more about a topic in the chapter, or anything is unclear, you can ask for an explanation.\n",
        "\n",
        "* If you are having a hard time with any of the exercises, you can ask for help.\n",
        "\n",
        "In each chapter, I'll suggest exercises you can do with a virtual assistant, but I encourage you to try things on your own and see what works for you."
      ]
    },
    {
      "cell_type": "markdown",
      "id": "ebf1a451",
      "metadata": {
        "id": "ebf1a451"
      },
      "source": [
        "Here are some topics you could ask a virtual assistant about:\n",
        "\n",
        "* Earlier I mentioned bitwise operators but I didn't explain why the value of `7 ^ 2` is 5. Try asking \"What are the bitwise operators in Python?\" or \"What is the value of `7 XOR 2`?\"\n",
        "\n",
        "* I also mentioned the order of operations. For more details, ask \"What is the order of operations in Python?\"\n",
        "\n",
        "* The `round` function, which we used to round a floating-point number to the nearest integer, can take a second argument. Try asking \"What are the arguments of the round function?\" or \"How do I round pi off to three decimal places?\"\n",
        "\n",
        "* There's one more arithmetic operator I didn't mention; try asking \"What is the modulus operator in Python?\""
      ]
    },
    {
      "cell_type": "markdown",
      "id": "9be3e1c7",
      "metadata": {
        "id": "9be3e1c7"
      },
      "source": [
        "Most virtual assistants know about Python, so they answer questions like this pretty reliably.\n",
        "But remember that these tools make mistakes.\n",
        "If you get code from a chatbot, test it!"
      ]
    },
    {
      "cell_type": "markdown",
      "id": "03c1ef93",
      "metadata": {
        "id": "03c1ef93"
      },
      "source": [
        "### Exercise\n",
        "\n",
        "You might wonder what `round` does if a number ends in `0.5`.\n",
        "The answer is that it sometimes rounds up and sometimes rounds down.\n",
        "Try these examples and see if you can figure out what rule it follows."
      ]
    },
    {
      "cell_type": "code",
      "execution_count": null,
      "id": "5d358f37",
      "metadata": {
        "colab": {
          "base_uri": "https://localhost:8080/"
        },
        "id": "5d358f37",
        "outputId": "b156a3b0-b980-4345-cc95-c54a9581f0f1"
      },
      "outputs": [
        {
          "output_type": "execute_result",
          "data": {
            "text/plain": [
              "42"
            ]
          },
          "metadata": {},
          "execution_count": 41
        }
      ],
      "source": [
        "round(42.5)"
      ]
    },
    {
      "cell_type": "code",
      "execution_count": null,
      "id": "12aa59a3",
      "metadata": {
        "colab": {
          "base_uri": "https://localhost:8080/"
        },
        "id": "12aa59a3",
        "outputId": "6b6f50d6-6d04-4b88-cb2c-c6dfbd641df5"
      },
      "outputs": [
        {
          "output_type": "execute_result",
          "data": {
            "text/plain": [
              "44"
            ]
          },
          "metadata": {},
          "execution_count": 42
        }
      ],
      "source": [
        "round(43.5)"
      ]
    },
    {
      "cell_type": "markdown",
      "id": "dd2f890e",
      "metadata": {
        "id": "dd2f890e"
      },
      "source": [
        "If you are curious, ask a virtual assistant, \"If a number ends in 0.5, does Python round up or down?\""
      ]
    },
    {
      "cell_type": "markdown",
      "id": "2cd03bcb",
      "metadata": {
        "id": "2cd03bcb"
      },
      "source": [
        "### Exercise\n",
        "\n",
        "When you learn about a new feature, you should try it out and make mistakes on purpose.\n",
        "That way, you learn the error messages, and when you see them again, you will know what they mean.\n",
        "It is better to make mistakes now and deliberately than later and accidentally.\n",
        "\n",
        "1.  You can use a minus sign to make a negative number like `-2`. What happens if you put a plus sign before a number? What about `2++2`?\n",
        "\n",
        "2.  What happens if you have two values with no operator between them, like `4 2`?\n",
        "\n",
        "3.  If you call a function like `round(42.5)`, what happens if you leave out one or both parentheses?"
      ]
    },
    {
      "cell_type": "markdown",
      "id": "1fb0adfe",
      "metadata": {
        "id": "1fb0adfe"
      },
      "source": [
        "### Exercise\n",
        "\n",
        "Recall that every expression has a value, every value has a type, and we can use the `type` function to find the type of any value.\n",
        "\n",
        "What is the type of the value of the following expressions? Make your best guess for each one, and then use `type` to find out.\n",
        "\n",
        "* `765`\n",
        "\n",
        "* `2.718`\n",
        "\n",
        "* `'2 pi'`\n",
        "\n",
        "* `abs(-7)`\n",
        "\n",
        "* `abs(-7.0)`\n",
        "\n",
        "* `abs`\n",
        "\n",
        "* `int`\n",
        "\n",
        "* `type`"
      ]
    },
    {
      "cell_type": "markdown",
      "id": "23762eec",
      "metadata": {
        "id": "23762eec"
      },
      "source": [
        "### Exercise\n",
        "\n",
        "The following questions give you a chance to practice writing arithmetic expressions.\n",
        "\n",
        "1.  How many seconds are there in 42 minutes 42 seconds?\n",
        "\n",
        "2.  How many miles are there in 10 kilometers? Hint: there are 1.61 kilometers in a mile.\n",
        "\n",
        "3.  If you run a 10 kilometer race in 42 minutes 42 seconds, what is your average pace in seconds per mile?\n",
        "    \n",
        "4.  What is your average pace in minutes and seconds per mile?\n",
        "\n",
        "5.  What is your average speed in miles per hour?\n",
        "\n",
        "If you already know about variables, you can use them for this exercise.\n",
        "If you don't, you can do the exercise without them -- and then we'll see them in the next chapter."
      ]
    },
    {
      "cell_type": "code",
      "execution_count": null,
      "id": "8fb50f30",
      "metadata": {
        "colab": {
          "base_uri": "https://localhost:8080/"
        },
        "id": "8fb50f30",
        "outputId": "f0fe58fe-b5be-44ea-aa37-0b272018712a"
      },
      "outputs": [
        {
          "output_type": "execute_result",
          "data": {
            "text/plain": [
              "-4"
            ]
          },
          "metadata": {},
          "execution_count": 47
        }
      ],
      "source": [
        "# There are 3 exercises, so I added more solution boxes.\n",
        "# This is exercise 1 question 1.\n",
        "\n",
        "2* -2\n"
      ]
    },
    {
      "cell_type": "code",
      "execution_count": null,
      "id": "5eceb4fb",
      "metadata": {
        "colab": {
          "base_uri": "https://localhost:8080/",
          "height": 106
        },
        "id": "5eceb4fb",
        "outputId": "afdf9466-7330-4821-8af1-5aea938952b5"
      },
      "outputs": [
        {
          "output_type": "error",
          "ename": "SyntaxError",
          "evalue": "invalid syntax (ipython-input-211567709.py, line 2)",
          "traceback": [
            "\u001b[0;36m  File \u001b[0;32m\"/tmp/ipython-input-211567709.py\"\u001b[0;36m, line \u001b[0;32m2\u001b[0m\n\u001b[0;31m    4 2\u001b[0m\n\u001b[0m      ^\u001b[0m\n\u001b[0;31mSyntaxError\u001b[0m\u001b[0;31m:\u001b[0m invalid syntax\n"
          ]
        }
      ],
      "source": [
        "# Exercise 1 question 2\n",
        "4 2"
      ]
    },
    {
      "cell_type": "code",
      "execution_count": null,
      "id": "fee97d8d",
      "metadata": {
        "colab": {
          "base_uri": "https://localhost:8080/",
          "height": 106
        },
        "id": "fee97d8d",
        "outputId": "d03c864d-c5c4-435b-ee10-6adaeb4910df"
      },
      "outputs": [
        {
          "output_type": "error",
          "ename": "SyntaxError",
          "evalue": "incomplete input (ipython-input-71149229.py, line 3)",
          "traceback": [
            "\u001b[0;36m  File \u001b[0;32m\"/tmp/ipython-input-71149229.py\"\u001b[0;36m, line \u001b[0;32m3\u001b[0m\n\u001b[0;31m    \u001b[0m\n\u001b[0m    ^\u001b[0m\n\u001b[0;31mSyntaxError\u001b[0m\u001b[0;31m:\u001b[0m incomplete input\n"
          ]
        }
      ],
      "source": [
        "# exercise 1 question 3\n",
        "round(42.5\n"
      ]
    },
    {
      "cell_type": "code",
      "execution_count": null,
      "id": "a998258c",
      "metadata": {
        "colab": {
          "base_uri": "https://localhost:8080/"
        },
        "id": "a998258c",
        "outputId": "8a76720b-437a-4cea-a05c-ceaa34d5715a"
      },
      "outputs": [
        {
          "output_type": "execute_result",
          "data": {
            "text/plain": [
              "int"
            ]
          },
          "metadata": {},
          "execution_count": 48
        }
      ],
      "source": [
        "# Exercise 2 question 1\n",
        "# Guess-int\n",
        "type(762)\n"
      ]
    },
    {
      "cell_type": "code",
      "execution_count": null,
      "id": "2e0fc7a9",
      "metadata": {
        "colab": {
          "base_uri": "https://localhost:8080/"
        },
        "id": "2e0fc7a9",
        "outputId": "52cb9b52-95dc-412f-da0b-73e900038302"
      },
      "outputs": [
        {
          "output_type": "execute_result",
          "data": {
            "text/plain": [
              "float"
            ]
          },
          "metadata": {},
          "execution_count": 49
        }
      ],
      "source": [
        "# Exercise 2 question 2\n",
        "# Guess- Float\n",
        "type(2.718)"
      ]
    },
    {
      "cell_type": "code",
      "execution_count": null,
      "id": "d25268d8",
      "metadata": {
        "colab": {
          "base_uri": "https://localhost:8080/"
        },
        "id": "d25268d8",
        "outputId": "12ea7e4a-1c33-4922-afbb-61290e135527"
      },
      "outputs": [
        {
          "output_type": "execute_result",
          "data": {
            "text/plain": [
              "str"
            ]
          },
          "metadata": {},
          "execution_count": 50
        }
      ],
      "source": [
        "# Exercise 2 question 3\n",
        "#Guess - string\n",
        "type('2 pi')"
      ]
    },
    {
      "cell_type": "code",
      "source": [
        "# Exercise 2 question 4\n",
        "# Guess-int\n",
        "type(abs(-7))"
      ],
      "metadata": {
        "colab": {
          "base_uri": "https://localhost:8080/"
        },
        "id": "aeaHyX3IA_pI",
        "outputId": "92ed61f7-6db6-4ac3-e925-840e1c172218"
      },
      "id": "aeaHyX3IA_pI",
      "execution_count": null,
      "outputs": [
        {
          "output_type": "execute_result",
          "data": {
            "text/plain": [
              "int"
            ]
          },
          "metadata": {},
          "execution_count": 51
        }
      ]
    },
    {
      "cell_type": "code",
      "source": [
        "# Exercise 2 question 5\n",
        "# Guess- Float\n",
        "type(abs(-7.0))"
      ],
      "metadata": {
        "colab": {
          "base_uri": "https://localhost:8080/"
        },
        "id": "JAcrRmgLA_mt",
        "outputId": "e9f35a88-ecfc-4d7e-8b28-41de7847b9a8"
      },
      "id": "JAcrRmgLA_mt",
      "execution_count": null,
      "outputs": [
        {
          "output_type": "execute_result",
          "data": {
            "text/plain": [
              "float"
            ]
          },
          "metadata": {},
          "execution_count": 52
        }
      ]
    },
    {
      "cell_type": "code",
      "source": [
        "# Exercise 2 question 6\n",
        "# Guess- int\n",
        "type(abs)"
      ],
      "metadata": {
        "colab": {
          "base_uri": "https://localhost:8080/"
        },
        "id": "cfr30rftA_kH",
        "outputId": "9b6c34ef-aa97-42bd-e611-5211ea7bd088"
      },
      "id": "cfr30rftA_kH",
      "execution_count": null,
      "outputs": [
        {
          "output_type": "execute_result",
          "data": {
            "text/plain": [
              "builtin_function_or_method"
            ]
          },
          "metadata": {},
          "execution_count": 53
        }
      ]
    },
    {
      "cell_type": "code",
      "source": [
        "#exercise 2 question 7\n",
        "# Guess- int\n",
        "type(int)"
      ],
      "metadata": {
        "colab": {
          "base_uri": "https://localhost:8080/"
        },
        "id": "yl4ZzqPZA_hd",
        "outputId": "7d742fe8-16c4-4291-aa05-212a83fde3bc"
      },
      "id": "yl4ZzqPZA_hd",
      "execution_count": null,
      "outputs": [
        {
          "output_type": "execute_result",
          "data": {
            "text/plain": [
              "type"
            ]
          },
          "metadata": {},
          "execution_count": 54
        }
      ]
    },
    {
      "cell_type": "code",
      "source": [
        "#Exercise 2 question 8\n",
        "# Guess- type\n",
        "type(type)"
      ],
      "metadata": {
        "colab": {
          "base_uri": "https://localhost:8080/"
        },
        "id": "YXpEIpWHA_ee",
        "outputId": "11d7b5fd-3248-4fb0-f751-a4fcb46dcf10"
      },
      "id": "YXpEIpWHA_ee",
      "execution_count": null,
      "outputs": [
        {
          "output_type": "execute_result",
          "data": {
            "text/plain": [
              "type"
            ]
          },
          "metadata": {},
          "execution_count": 55
        }
      ]
    },
    {
      "cell_type": "code",
      "source": [
        "#Exercise 3 question 1\n",
        "(42*60)+42"
      ],
      "metadata": {
        "colab": {
          "base_uri": "https://localhost:8080/"
        },
        "id": "oYSYj-s0A_bZ",
        "outputId": "2265f9be-b7d9-4397-a2dd-29389368a12a"
      },
      "id": "oYSYj-s0A_bZ",
      "execution_count": null,
      "outputs": [
        {
          "output_type": "execute_result",
          "data": {
            "text/plain": [
              "2562"
            ]
          },
          "metadata": {},
          "execution_count": 56
        }
      ]
    },
    {
      "cell_type": "code",
      "source": [
        "# Exercise 3 question 2\n",
        "10/1.61"
      ],
      "metadata": {
        "colab": {
          "base_uri": "https://localhost:8080/"
        },
        "id": "PBV5W-NrA_WN",
        "outputId": "20ec7adf-e133-4b8a-b352-fc9a10ee8ce9"
      },
      "id": "PBV5W-NrA_WN",
      "execution_count": null,
      "outputs": [
        {
          "output_type": "execute_result",
          "data": {
            "text/plain": [
              "6.211180124223602"
            ]
          },
          "metadata": {},
          "execution_count": 58
        }
      ]
    },
    {
      "cell_type": "code",
      "source": [
        "# Exercise 3 question 3\n",
        "((42*60)+42)/(10/1.61)"
      ],
      "metadata": {
        "colab": {
          "base_uri": "https://localhost:8080/"
        },
        "id": "0fYcvC_JA_TH",
        "outputId": "1a9ee259-fda8-4093-a52f-ad809eab97c7"
      },
      "id": "0fYcvC_JA_TH",
      "execution_count": null,
      "outputs": [
        {
          "output_type": "execute_result",
          "data": {
            "text/plain": [
              "412.482"
            ]
          },
          "metadata": {},
          "execution_count": 59
        }
      ]
    },
    {
      "cell_type": "code",
      "source": [
        "#exercise 3 question 4\n",
        "\n",
        "seconds_per_mile = ((42*60)+42)/(10/1.61)\n",
        "Minutes = int(seconds_per_mile//60)\n",
        "Seconds= int(seconds_per_mile%60)\n",
        "\n",
        "print(str(Minutes) + \" Minutes\" + \" and \" + str(Seconds) + \" seconds\")"
      ],
      "metadata": {
        "id": "MTlf7yNXA_Nm",
        "colab": {
          "base_uri": "https://localhost:8080/"
        },
        "outputId": "8bbacf79-10ec-4b60-f4ee-24741af0d348"
      },
      "id": "MTlf7yNXA_Nm",
      "execution_count": 11,
      "outputs": [
        {
          "output_type": "stream",
          "name": "stdout",
          "text": [
            "6 Minutes and 52 seconds\n"
          ]
        }
      ]
    },
    {
      "cell_type": "code",
      "source": [
        "#exercise 3 question 5\n",
        "(10/1.61)/(((42/60)+42)/60)"
      ],
      "metadata": {
        "id": "7lLUpR_RA_KV",
        "colab": {
          "base_uri": "https://localhost:8080/"
        },
        "outputId": "4f28582e-7ec7-42ee-db66-e07ba492fd5e"
      },
      "id": "7lLUpR_RA_KV",
      "execution_count": 14,
      "outputs": [
        {
          "output_type": "execute_result",
          "data": {
            "text/plain": [
              "8.727653570337614"
            ]
          },
          "metadata": {},
          "execution_count": 14
        }
      ]
    },
    {
      "cell_type": "markdown",
      "id": "a7f4edf8",
      "metadata": {
        "tags": [],
        "id": "a7f4edf8"
      },
      "source": [
        "[Think Python: 3rd Edition](https://allendowney.github.io/ThinkPython/index.html)\n",
        "\n",
        "Copyright 2024 [Allen B. Downey](https://allendowney.com)\n",
        "\n",
        "Code license: [MIT License](https://mit-license.org/)\n",
        "\n",
        "Text license: [Creative Commons Attribution-NonCommercial-ShareAlike 4.0 International](https://creativecommons.org/licenses/by-nc-sa/4.0/)"
      ]
    }
  ],
  "metadata": {
    "celltoolbar": "Tags",
    "kernelspec": {
      "display_name": "Python 3 (ipykernel)",
      "language": "python",
      "name": "python3"
    },
    "language_info": {
      "codemirror_mode": {
        "name": "ipython",
        "version": 3
      },
      "file_extension": ".py",
      "mimetype": "text/x-python",
      "name": "python",
      "nbconvert_exporter": "python",
      "pygments_lexer": "ipython3",
      "version": "3.10.11"
    },
    "colab": {
      "provenance": [],
      "include_colab_link": true
    }
  },
  "nbformat": 4,
  "nbformat_minor": 5
}